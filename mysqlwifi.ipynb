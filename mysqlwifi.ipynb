{
 "cells": [
  {
   "cell_type": "code",
   "execution_count": null,
   "metadata": {},
   "outputs": [],
   "source": []
  },
  {
   "cell_type": "code",
   "execution_count": 1,
   "metadata": {},
   "outputs": [
    {
     "name": "stdout",
     "output_type": "stream",
     "text": [
      "Import : 0.0780158042908\n"
     ]
    }
   ],
   "source": [
    "import pymysql # run pip install pymysql if this fails\n",
    "import csv\n",
    "import time\n",
    "\n",
    "start = time.time()\n",
    "\n",
    "with open('wifi_list.csv') as f:\n",
    "    wifiTable = [{k: str(v) for k, v in row.items()}\n",
    "        for row in csv.DictReader(f, skipinitialspace=True)]\n",
    "\n",
    "print \"Import : \" + str(time.time() - start)"
   ]
  },
  {
   "cell_type": "code",
   "execution_count": 13,
   "metadata": {},
   "outputs": [
    {
     "data": {
      "text/plain": [
       "0"
      ]
     },
     "execution_count": 13,
     "metadata": {},
     "output_type": "execute_result"
    }
   ],
   "source": [
    "conn = pymysql.connect(host='mysql.clarksonmsda.org', port=3306, user='ia626', \\\n",
    "                       passwd='ia626clarkson', db='ia626', autocommit=True) #setup our credentials\n",
    "cur = conn.cursor(pymysql.cursors.DictCursor)\n",
    "\n",
    "cur.execute(\"TRUNCATE TABLE `mdhaque_wifi`\")"
   ]
  },
  {
   "cell_type": "code",
   "execution_count": null,
   "metadata": {},
   "outputs": [],
   "source": []
  }
 ],
 "metadata": {
  "kernelspec": {
   "display_name": "Python 2",
   "language": "python",
   "name": "python2"
  },
  "language_info": {
   "codemirror_mode": {
    "name": "ipython",
    "version": 2
   },
   "file_extension": ".py",
   "mimetype": "text/x-python",
   "name": "python",
   "nbconvert_exporter": "python",
   "pygments_lexer": "ipython2",
   "version": "2.7.16"
  }
 },
 "nbformat": 4,
 "nbformat_minor": 2
}
