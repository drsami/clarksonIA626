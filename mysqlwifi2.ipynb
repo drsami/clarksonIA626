{
 "cells": [
  {
   "cell_type": "code",
   "execution_count": 1,
   "metadata": {},
   "outputs": [
    {
     "name": "stdout",
     "output_type": "stream",
     "text": [
      "Import : 0.0930860042572\n"
     ]
    }
   ],
   "source": [
    "import csv\n",
    "import time\n",
    "\n",
    "start = time.time()\n",
    "\n",
    "with open('wifi_list.csv') as f:\n",
    "    wifiTable = [{k: str(v) for k, v in row.items()}\n",
    "        for row in csv.DictReader(f, skipinitialspace=True)]\n",
    "\n",
    "print \"Data Import : \" + str(time.time() - start)"
   ]
  },
  {
   "cell_type": "code",
   "execution_count": 11,
   "metadata": {},
   "outputs": [
    {
     "name": "stdout",
     "output_type": "stream",
     "text": [
      "Table Truncate : 177.265734911\n"
     ]
    }
   ],
   "source": [
    "## Truncate the table \n",
    "conn = pymysql.connect(host='mysql.clarksonmsda.org', \\\n",
    "                       port=3306, \\\n",
    "                       user='ia626', \\\n",
    "                       passwd='ia626clarkson', \\\n",
    "                       db='ia626', autocommit=True)\n",
    "cur = conn.cursor(pymysql.cursors.DictCursor)\n",
    "\n",
    "cur.execute(\"TRUNCATE TABLE `mdhaque_wifi`\")\n",
    "print \"Table Truncate : \" + str(time.time() - start)"
   ]
  },
  {
   "cell_type": "code",
   "execution_count": 12,
   "metadata": {},
   "outputs": [
    {
     "name": "stdout",
     "output_type": "stream",
     "text": [
      "block size: 1000 - total time : 1.63105893135\n"
     ]
    }
   ],
   "source": [
    "## Buffered insert to insert faster\n",
    "i=0\n",
    "sql=''\n",
    "tokens = []\n",
    "n= 0\n",
    "\n",
    "sql = '''INSERT INTO mdhaque_wifi (`MAC`,`SSID`,`AuthMode`,`FirstSeen`, \n",
    "    `Channel`,`RSSI`,`CurrentLatitude`,`CurrentLongitude`,`AltitudeMeters`,`Type`\n",
    "    ) VALUES (%s,%s,%s,%s,%s,%s,%s,%s,%s,%s);'''\n",
    "blocksizes = [1000]\n",
    "for bs in blocksizes:\n",
    "    start = time.time()\n",
    "    for row in wifiTable:\n",
    "        dtl = row['FirstSeen'].split(' ')\n",
    "        dts = '0000-00-00 00:00'\n",
    "        if len(dtl) == 2:\n",
    "            dl = dtl[0].split(\"/\")\n",
    "            dts = dl[2] + '/' + dl[0] + '/'+dl[1] + ' ' +dtl[1] \n",
    "        tokens.append((row[\"MAC\"],row[\"SSID\"],row[\"AuthMode\"],dts, \\\n",
    "        row[\"Channel\"],row[\"RSSI\"],row[\"CurrentLatitude\"],row[\"CurrentLongitude\"],\\\n",
    "        row[\"AltitudeMeters\"],row[\"Type\"]))\n",
    "        #print conn.insert_id()\n",
    "        if i % bs == 0:\n",
    "            n+=1\n",
    "            #print tokens\n",
    "            bstart = time.time()\n",
    "            cur.executemany(sql,tokens)\n",
    "            conn.commit()\n",
    "            #print \"Block \" + str(n) +\" \"+ str(time.time() - bstart)\n",
    "            tokens = []\n",
    "        i+=1\n",
    "    print \"block size: \" + str(bs) + \" - total time : \" + str(time.time() - start)\n",
    "    if len(tokens) > 0:\n",
    "        cur.executemany(sql,tokens)\n",
    "        conn.commit()\n",
    "    \n",
    "cur.close()\n",
    "conn.close()"
   ]
  },
  {
   "cell_type": "code",
   "execution_count": null,
   "metadata": {},
   "outputs": [],
   "source": []
  },
  {
   "cell_type": "code",
   "execution_count": 13,
   "metadata": {},
   "outputs": [
    {
     "name": "stderr",
     "output_type": "stream",
     "text": [
      "/Users/dr.sami/anaconda2/lib/python2.7/site-packages/pymysql/cursors.py:329: Warning: (1050, \"Table 'mdhaque_wifi' already exists\")\n",
      "  self._do_get_result()\n"
     ]
    }
   ],
   "source": [
    "## At the begining if the file does not exist CREATE TABLE\n",
    "import pymysql # run pip install pymysql if this fails\n",
    "\n",
    "conn = pymysql.connect(host='mysql.clarksonmsda.org', \\\n",
    "                       port=3306, \\\n",
    "                       user='ia626', \\\n",
    "                       passwd='ia626clarkson', \\\n",
    "                       db='ia626', autocommit=True) #setup credential from config file??\n",
    "cur = conn.cursor(pymysql.cursors.DictCursor)\n",
    "\n",
    "cur.execute('''\n",
    "\n",
    "CREATE TABLE IF NOT EXISTS `mdhaque_wifi` (\n",
    "  `id` int(5) NOT NULL AUTO_INCREMENT,\n",
    "  `MAC` varchar(50) NOT NULL,\n",
    "  `SSID` varchar(50) NOT NULL,\n",
    "  `AuthMode` varchar(100) NOT NULL,\n",
    "  `FirstSeen` datetime NOT NULL,\n",
    "  `Channel` int(3) NOT NULL,\n",
    "  `RSSI` int(5) NOT NULL,\n",
    "  `CurrentLatitude` decimal(11,8) NOT NULL,\n",
    "  `CurrentLongitude` decimal(11,8) NOT NULL,\n",
    "  `AltitudeMeters` decimal(10,10) NOT NULL,\n",
    "  `Type` varchar(50) NOT NULL,\n",
    "  PRIMARY KEY (`id`)\n",
    ") ENGINE=MyISAM  DEFAULT CHARSET=latin1 AUTO_INCREMENT=4485 ;\n",
    "''')\n",
    "\n",
    "cur.close()\n",
    "conn.close()"
   ]
  },
  {
   "cell_type": "code",
   "execution_count": null,
   "metadata": {},
   "outputs": [],
   "source": []
  }
 ],
 "metadata": {
  "kernelspec": {
   "display_name": "Python 2",
   "language": "python",
   "name": "python2"
  },
  "language_info": {
   "codemirror_mode": {
    "name": "ipython",
    "version": 2
   },
   "file_extension": ".py",
   "mimetype": "text/x-python",
   "name": "python",
   "nbconvert_exporter": "python",
   "pygments_lexer": "ipython2",
   "version": "2.7.16"
  }
 },
 "nbformat": 4,
 "nbformat_minor": 2
}
