{
 "cells": [
  {
   "cell_type": "code",
   "execution_count": 1,
   "metadata": {},
   "outputs": [
    {
     "name": "stdout",
     "output_type": "stream",
     "text": [
      "Import : 0.0930860042572\n"
     ]
    }
   ],
   "source": [
    "import csv\n",
    "import time\n",
    "\n",
    "start = time.time()\n",
    "\n",
    "with open('wifi_list.csv') as f:\n",
    "    wifiTable = [{k: str(v) for k, v in row.items()}\n",
    "        for row in csv.DictReader(f, skipinitialspace=True)]\n",
    "\n",
    "print \"Data Import : \" + str(time.time() - start)"
   ]
  },
  {
   "cell_type": "code",
   "execution_count": 11,
   "metadata": {},
   "outputs": [
    {
     "name": "stdout",
     "output_type": "stream",
     "text": [
      "Table Truncate : 177.265734911\n"
     ]
    }
   ],
   "source": [
    "## Truncate the table \n",
    "conn = pymysql.connect(host='mysql.clarksonmsda.org', \\\n",
    "                       port=3306, \\\n",
    "                       user='ia626', \\\n",
    "                       passwd='ia626clarkson', \\\n",
    "                       db='ia626', autocommit=True)\n",
    "cur = conn.cursor(pymysql.cursors.DictCursor)\n",
    "\n",
    "cur.execute(\"TRUNCATE TABLE `mdhaque_wifi`\")\n",
    "print \"Table Truncate : \" + str(time.time() - start)"
   ]
  },
  {
   "cell_type": "code",
   "execution_count": 12,
   "metadata": {},
   "outputs": [
    {
     "name": "stdout",
     "output_type": "stream",
     "text": [
      "block size: 1000 - total time : 1.63105893135\n"
     ]
    }
   ],
   "source": [
    "## Buffered insert to insert faster\n",
    "i=0\n",
    "sql=''\n",
    "tokens = []\n",
    "n= 0\n",
    "\n",
    "sql = '''INSERT INTO mdhaque_wifi (`MAC`,`SSID`,`AuthMode`,`FirstSeen`, \n",
    "    `Channel`,`RSSI`,`CurrentLatitude`,`CurrentLongitude`,`AltitudeMeters`,`Type`\n",
    "    ) VALUES (%s,%s,%s,%s,%s,%s,%s,%s,%s,%s);'''\n",
    "blocksizes = [1000]\n",
    "for bs in blocksizes:\n",
    "    start = time.time()\n",
    "    for row in wifiTable:\n",
    "        dtl = row['FirstSeen'].split(' ')\n",
    "        dts = '0000-00-00 00:00'\n",
    "        if len(dtl) == 2:\n",
    "            dl = dtl[0].split(\"/\")\n",
    "            dts = dl[2] + '/' + dl[0] + '/'+dl[1] + ' ' +dtl[1] \n",
    "        tokens.append((row[\"MAC\"],row[\"SSID\"],row[\"AuthMode\"],dts, \\\n",
    "        row[\"Channel\"],row[\"RSSI\"],row[\"CurrentLatitude\"],row[\"CurrentLongitude\"],\\\n",
    "        row[\"AltitudeMeters\"],row[\"Type\"]))\n",
    "        #print conn.insert_id()\n",
    "        if i % bs == 0:\n",
    "            n+=1\n",
    "            #print tokens\n",
    "            bstart = time.time()\n",
    "            cur.executemany(sql,tokens)\n",
    "            conn.commit()\n",
    "            #print \"Block \" + str(n) +\" \"+ str(time.time() - bstart)\n",
    "            tokens = []\n",
    "        i+=1\n",
    "    print \"block size: \" + str(bs) + \" - total time : \" + str(time.time() - start)\n",
    "    if len(tokens) > 0:\n",
    "        cur.executemany(sql,tokens)\n",
    "        conn.commit()\n",
    "    \n",
    "cur.close()\n",
    "conn.close()"
   ]
  },
  {
   "cell_type": "code",
   "execution_count": 2,
   "metadata": {},
   "outputs": [
    {
     "name": "stdout",
     "output_type": "stream",
     "text": [
      "MAC,SSID,AuthMode,FirstSeen,Channel,RSSI,CurrentLatitude,CurrentLongitude,AltitudeMeters,AccuracyMeters,Type\n",
      "e0:91:f5:de:fa:4f,NETGEAR-5G,[WPS][ESS],5/9/2012 2:02,36,-67,44.67023722,-74.98363701,104.1999969,7,WIFI\n",
      "e2:91:f5:de:fa:51,bonesaw_Guest,[WPA-PSK-TKIP+CCMP][WPA2-PSK-TKIP+CCMP][ESS],5/9/2012 2:02,11,-62,44.67023722,-74.98363701,104.1999969,7,WIFI\n",
      "e0:91:f5:de:fa:50,BONESAW_HQ,[WPA-PSK-TKIP+CCMP][WPA2-PSK-TKIP+CCMP][WPS][ESS],5/9/2012 2:02,11,-62,44.67023722,-74.98363701,104.1999969,7,WIFI\n",
      "e0:91:f5:5e:34:60,Happy_Clam,[WPA-PSK-TKIP+CCMP][WPA2-PSK-TKIP+CCMP][WPS][ESS],5/9/2012 2:02,6,-61,44.67023722,-74.98363701,104.1999969,7,WIFI\n",
      "90:84:0d:d6:8b:69,Nationwide,[WPA2-PSK-CCMP][ESS],5/9/2012 2:02,1,-85,44.67023722,-74.98363701,104.1999969,7,WIFI\n",
      "00:08:9f:7b:06:d1,myLGNet,[WEP][ESS],5/9/2012 2:02,11,-79,44.67023722,-74.98363701,104.1999969,7,WIFI\n",
      "00:23:69:c1:a9:ef,linksys,[WPA-PSK-TKIP][ESS],5/9/2012 2:02,6,-87,44.67023722,-74.98363701,104.1999969,7,WIFI\n",
      "310410_11506_144930464,AT&T,UMTS;us,5/9/2012 2:02,0,-97,44.67023722,-74.98363701,104.1999969,7,GSM\n",
      "00:13:46:0b:ba:0a,rock,[WPA-PSK-TKIP][ESS],5/9/2012 2:02,1,-88,44.67022292,-74.98368092,99,8,WIFI\n"
     ]
    }
   ],
   "source": [
    "!head wifi_list.csv"
   ]
  },
  {
   "cell_type": "code",
   "execution_count": 7,
   "metadata": {},
   "outputs": [
    {
     "name": "stdout",
     "output_type": "stream",
     "text": [
      "Import : 0.148526906967\n",
      "Block 1 0.0334811210632\n",
      "Block 2 0.164397001266\n",
      "Block 3 0.12668800354\n",
      "Block 4 0.116857051849\n",
      "Block 5 0.123313903809\n",
      "Block 6 0.109452962875\n",
      "Block 7 0.11803984642\n",
      "Block 8 0.14015007019\n",
      "Block 9 0.120574951172\n",
      "block size: 500 - total time : 1.10730409622\n"
     ]
    }
   ],
   "source": [
    "import pymysql # run pip install pymysql if this fails\n",
    "import csv\n",
    "import time\n",
    "\n",
    "start = time.time()\n",
    "\n",
    "with open('wifi_list.csv') as f:\n",
    "    wifiTable = [{k: str(v) for k, v in row.items()}\n",
    "        for row in csv.DictReader(f, skipinitialspace=True)]\n",
    "\n",
    "print \"Import : \" + str(time.time() - start)\n",
    "\n",
    "conn = pymysql.connect(host='mysql.clarksonmsda.org', port=3306, user='ia626', \\\n",
    "                       passwd='ia626clarkson', db='ia626', autocommit=True) #setup our credentials\n",
    "cur = conn.cursor(pymysql.cursors.DictCursor)\n",
    "\n",
    "cur.execute(\"TRUNCATE TABLE `mdhaque_wifi`\")\n",
    "i=0\n",
    "tokens = []\n",
    "bs = 500\n",
    "n= 0\n",
    "\n",
    "sql = '''INSERT INTO mdhaque_wifi (`MAC`,`SSID`,`AuthMode`,`FirstSeen`, \n",
    "    `Channel`,`RSSI`,`CurrentLatitude`,`CurrentLongitude`,`AltitudeMeters`, \n",
    "    `Type`) VALUES (%s,%s,%s,%s,%s,%s,%s,%s,%s,%s);'''\n",
    "start = time.time()\n",
    "for row in wifiTable:\n",
    "    '''\n",
    "    [['a','b','c'],['a1','b1','c1'],['a2','b2','c2']]\n",
    "    '''\n",
    "    dtl = row['FirstSeen'].split(' ')\n",
    "    dts = '0000-00-00 00:00'\n",
    "    if len(dtl) == 2:\n",
    "        dl = dtl[0].split(\"/\")\n",
    "        dts = dl[2] + '/' + dl[0] + '/'+dl[1] + ' ' +dtl[1] \n",
    "    tokens.append((row[\"MAC\"],row[\"SSID\"],row[\"AuthMode\"],dts, \\\n",
    "    row[\"Channel\"],row[\"RSSI\"],row[\"CurrentLatitude\"],row[\"CurrentLongitude\"],\\\n",
    "    row[\"AltitudeMeters\"],row[\"Type\"]))\n",
    "    #print conn.insert_id()\n",
    "    if i % bs == 0:\n",
    "        n+=1\n",
    "        #print tokens\n",
    "        bstart = time.time()\n",
    "        cur.executemany(sql,tokens)\n",
    "        conn.commit()\n",
    "        print \"Block \" + str(n) +\" \"+ str(time.time() - bstart)\n",
    "        tokens = []\n",
    "    i+=1\n",
    "print \"block size: \" + str(bs) + \" - total time : \" + str(time.time() - start)\n",
    "if len(tokens) > 0:\n",
    "    cur.executemany(sql,tokens)\n",
    "    conn.commit()\n",
    "    \n",
    "cur.close()\n",
    "conn.close()"
   ]
  },
  {
   "cell_type": "code",
   "execution_count": 6,
   "metadata": {},
   "outputs": [],
   "source": [
    "## At the begining if the file does not exist CREATE TABLE\n",
    "import pymysql # run pip install pymysql if this fails\n",
    "\n",
    "conn = pymysql.connect(host='mysql.clarksonmsda.org', \\\n",
    "                       port=3306, \\\n",
    "                       user='ia626', \\\n",
    "                       passwd='ia626clarkson', \\\n",
    "                       db='ia626', autocommit=True) #setup credential from config file??\n",
    "cur = conn.cursor(pymysql.cursors.DictCursor)\n",
    "\n",
    "cur.execute('''\n",
    "\n",
    "CREATE TABLE IF NOT EXISTS `mdhaque_wifi` (\n",
    "  `id` int(5) NOT NULL AUTO_INCREMENT,\n",
    "  `MAC` varchar(50) NOT NULL,\n",
    "  `SSID` varchar(50) NOT NULL,\n",
    "  `AuthMode` varchar(100) NOT NULL,\n",
    "  `FirstSeen` datetime NOT NULL,\n",
    "  `Channel` int(3) NOT NULL,\n",
    "  `RSSI` int(5) NOT NULL,\n",
    "  `CurrentLatitude` decimal(11,8) NOT NULL,\n",
    "  `CurrentLongitude` decimal(11,8) NOT NULL,\n",
    "  `AltitudeMeters` decimal(15,10) NOT NULL,\n",
    "  `Type` varchar(50) NOT NULL,\n",
    "  PRIMARY KEY (`id`)\n",
    ") ENGINE=MyISAM  DEFAULT CHARSET=latin1 AUTO_INCREMENT=4485 ;\n",
    "''')\n",
    "\n",
    "cur.close()\n",
    "conn.close()"
   ]
  },
  {
   "cell_type": "code",
   "execution_count": null,
   "metadata": {},
   "outputs": [],
   "source": []
  }
 ],
 "metadata": {
  "kernelspec": {
   "display_name": "Python 2",
   "language": "python",
   "name": "python2"
  },
  "language_info": {
   "codemirror_mode": {
    "name": "ipython",
    "version": 2
   },
   "file_extension": ".py",
   "mimetype": "text/x-python",
   "name": "python",
   "nbconvert_exporter": "python",
   "pygments_lexer": "ipython2",
   "version": "2.7.16"
  }
 },
 "nbformat": 4,
 "nbformat_minor": 2
}
