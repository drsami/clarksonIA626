{
 "cells": [
  {
   "cell_type": "code",
   "execution_count": 14,
   "metadata": {},
   "outputs": [
    {
     "name": "stdout",
     "output_type": "stream",
     "text": [
      "Total 112068 Tickets Data Import : 1.81085300446seconds elapsed.\n"
     ]
    }
   ],
   "source": [
    "import csv\n",
    "import time\n",
    "\n",
    "start = time.time()\n",
    "\n",
    "with open('pvsubset.csv') as f:\n",
    "    ticketTable = [{k: str(v) for k, v in row.items()}\n",
    "        for row in csv.DictReader(f, skipinitialspace=True)]\n",
    "\n",
    "print \"Total \" + str(len(ticketTable)) + \" Tickets Data Import : \" + str(time.time() - start) + \"seconds elapsed.\""
   ]
  },
  {
   "cell_type": "code",
   "execution_count": 3,
   "metadata": {},
   "outputs": [
    {
     "name": "stdout",
     "output_type": "stream",
     "text": [
      "Summons Number,Plate ID,Registration State,Issue Date,Violation Code,Vehicle Body Type,Vehicle Make,Vehicle Expiration Date,House Number,Street Name,Vehicle Color,Vehicle Year\n",
      "1363745270,GGY6450,99,7/9/2015,46,SDN,HONDA,20170602,142,MACDOUNGH ST,WHITE,2010\n",
      "1363745293,KXD355,SC,7/9/2015,21,SUBN,CHEVR,20160288,331,LEXINGTON AVE,RED,0\n",
      "1363745438,JCK7576,PA,7/9/2015,21,SDN,ME/BE,0,1087,FULTON ST,WHITE,0\n",
      "1363745475,GYK7658,NY,7/9/2015,21,SUBN,NISSA,0,207,MADISON ST,BK,2015\n",
      "1363745487,GMT8141,NY,7/9/2015,21,P-U,LINCO,20160206,237,MADISON ST,BLK,2006\n",
      "1363745517,GYK3760,NY,7/9/2015,21,SUBN,HONDA,20160709,201,HALSEY ST,OTHER,2006\n",
      "1363745529,GYK3760,NY,7/9/2015,75,SUBN,HONDA,20160709,201,HALSEY ST,OTHER,2006\n",
      "1363745542,GWL9925,NY,7/9/2015,71,SDN,TOYOT,20170602,482,TOMPKINS AVE,OTHER,2006\n",
      "1363745554,GPH9963,PA,7/9/2015,21,SDN,MITSU,20150288,317,LEXINGTON AVE,OTHER,0\n"
     ]
    }
   ],
   "source": [
    "!head pvsubset.csv"
   ]
  },
  {
   "cell_type": "code",
   "execution_count": 21,
   "metadata": {},
   "outputs": [
    {
     "name": "stdout",
     "output_type": "stream",
     "text": [
      "Table Truncate : 1032.50184417\n"
     ]
    }
   ],
   "source": [
    "## Truncate the table\n",
    "import pymysql # run pip install pymysql if this fails\n",
    "conn = pymysql.connect(host='mysql.clarksonmsda.org', \\\n",
    "                       port=3306, \\\n",
    "                       user='ia626', \\\n",
    "                       passwd='ia626clarkson', \\\n",
    "                       db='ia626', autocommit=True)\n",
    "cur = conn.cursor(pymysql.cursors.DictCursor)\n",
    "\n",
    "cur.execute(\"TRUNCATE TABLE `mdhaque_pvsubset`\")\n",
    "print \"Table Truncate : \" + str(time.time() - start)"
   ]
  },
  {
   "cell_type": "code",
   "execution_count": 20,
   "metadata": {},
   "outputs": [
    {
     "name": "stdout",
     "output_type": "stream",
     "text": [
      "['Street Name', 'House Number', 'Vehicle Body Type', 'Plate ID', 'Summons Number', 'Violation Code', 'Vehicle Year', 'Vehicle Color', 'Vehicle Make', 'Issue Date', 'Vehicle Expiration Date', 'Registration State']\n",
      "{'Street Name': 'MACDOUNGH ST', 'House Number': '142', 'Vehicle Body Type': 'SDN', 'Plate ID': 'GGY6450', 'Summons Number': '1363745270', 'Violation Code': '46', 'Vehicle Year': '2010', 'Vehicle Color': 'WHITE', 'Vehicle Make': 'HONDA', 'Issue Date': '7/9/2015', 'Vehicle Expiration Date': '20170602', 'Registration State': '99'}\n",
      "3\n",
      "2015/7/20 00:00\n"
     ]
    }
   ],
   "source": [
    "print ticketTable[0].keys()\n",
    "print ticketTable[0]\n",
    "dtl = row['Issue Date'].split(\"/\")\n",
    "print len(dtl)\n",
    "dts = '0000-00-00 00:00'\n",
    "dts = dtl[2] + '/' + dtl[0] + '/' + dtl[1] + ' ' + '00:00' \n",
    "print dts"
   ]
  },
  {
   "cell_type": "code",
   "execution_count": null,
   "metadata": {},
   "outputs": [],
   "source": [
    "## Buffered insert to insert faster\n",
    "i=0\n",
    "sql=''\n",
    "tokens = []\n",
    "n=0\n",
    "\n",
    "sql = '''INSERT INTO mdhaque_pvsubset (`summons_number`, `plate_id`, `registration_state`, `issue_date`, `violation_code`, \n",
    "  `vehicle_body_type`, `vehicle_make`, `vehicle_expiration_date`, `house_number`, `street_name`, `vehicle_color`, `vehicle_year`\n",
    "    ) VALUES (%s,%s,%s,%s,%s,%s,%s,%s,%s,%s,%s,%s);'''\n",
    "blocksizes = [1000]\n",
    "for bs in blocksizes:\n",
    "    start = time.time()\n",
    "    for row in ticketTable:\n",
    "        dtl = row['Issue Date'].split(\"/\")\n",
    "\n",
    "        if len(dtl) == 3:\n",
    "            dts = dts = dtl[2] + '/' + dtl[0] + '/' + dtl[1] + ' ' + '00:00' \n",
    "        tokens.append((row[\"Summons Number\"],row[\"Plate ID\"],row[\"Registration State\"], dts, row[\"Violation Code\"], \\\n",
    "        row[\"Vehicle Body Type\"],row[\"Vehicle Make\"], dts, row[\"House Number\"], row[\"Street Name\"], row[\"Vehicle Color\"], row[\"Vehicle Year\"]))\n",
    "        #print conn.insert_id()\n",
    "        if i % bs == 0:\n",
    "            n+=1\n",
    "            #print tokens\n",
    "            bstart = time.time()\n",
    "            cur.executemany(sql,tokens)\n",
    "            conn.commit()\n",
    "            #print \"Block \" + str(n) +\" \"+ str(time.time() - bstart)\n",
    "            tokens = []\n",
    "        i+=1\n",
    "    print \"block size: \" + str(bs) + \" - total time : \" + str(time.time() - start)\n",
    "    if len(tokens) > 0:\n",
    "        cur.executemany(sql,tokens)\n",
    "        conn.commit()\n",
    "    \n",
    "cur.close()\n",
    "conn.close()"
   ]
  },
  {
   "cell_type": "code",
   "execution_count": null,
   "metadata": {},
   "outputs": [],
   "source": [
    "  `summons_number`, `plate_id`, `registration_state`, `issue_date`, `violation_code`, \n",
    "  `vehicle_body_type`, `vehicle_make`, `vehicle_expiration_date`, `house_number`,\n",
    "  `street_name`, `vehicle_color`, `vehicle_year`"
   ]
  },
  {
   "cell_type": "code",
   "execution_count": null,
   "metadata": {},
   "outputs": [],
   "source": []
  },
  {
   "cell_type": "code",
   "execution_count": 2,
   "metadata": {},
   "outputs": [],
   "source": [
    "## At the begining if the file does not exist CREATE TABLE\n",
    "import pymysql # run pip install pymysql if this fails\n",
    "\n",
    "conn = pymysql.connect(host='mysql.clarksonmsda.org', \\\n",
    "                       port=3306, \\\n",
    "                       user='ia626', \\\n",
    "                       passwd='ia626clarkson', \\\n",
    "                       db='ia626', autocommit=True) #setup credential from config file??\n",
    "cur = conn.cursor(pymysql.cursors.DictCursor)\n",
    "\n",
    "cur.execute('''\n",
    "\n",
    "CREATE TABLE `mdhaque_pvsubset` (\n",
    "  `vehicle_id` int(5) NOT NULL AUTO_INCREMENT,\n",
    "  `summons_number` varchar(10) NOT NULL,\n",
    "  `plate_id` varchar(10) NOT NULL,\n",
    "  `registration_state` varchar(2) NOT NULL,\n",
    "  `issue_date` date NOT NULL,\n",
    "  `violation_code` varchar(2) NOT NULL,\n",
    "  `vehicle_body_type` varchar(10) NOT NULL,\n",
    "  `vehicle_make` varchar(10) NOT NULL,\n",
    "  `vehicle_expiration_date` date NOT NULL,\n",
    "  `house_number` varchar(20) NOT NULL,\n",
    "  `street_name` varchar(100) NOT NULL,\n",
    "  `vehicle_color` varchar(20) NOT NULL,\n",
    "  `vehicle_year` varchar(4) NOT NULL,\n",
    "   PRIMARY KEY (`vehicle_id`)\n",
    ") ENGINE=MyISAM DEFAULT CHARSET=latin1 ;\n",
    "''')\n",
    "\n",
    "cur.close()\n",
    "conn.close()"
   ]
  },
  {
   "cell_type": "code",
   "execution_count": null,
   "metadata": {},
   "outputs": [],
   "source": []
  }
 ],
 "metadata": {
  "kernelspec": {
   "display_name": "Python 2",
   "language": "python",
   "name": "python2"
  },
  "language_info": {
   "codemirror_mode": {
    "name": "ipython",
    "version": 2
   },
   "file_extension": ".py",
   "mimetype": "text/x-python",
   "name": "python",
   "nbconvert_exporter": "python",
   "pygments_lexer": "ipython2",
   "version": "2.7.16"
  }
 },
 "nbformat": 4,
 "nbformat_minor": 2
}
